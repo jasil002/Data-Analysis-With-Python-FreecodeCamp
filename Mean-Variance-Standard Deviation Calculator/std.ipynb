{
  "nbformat": 4,
  "nbformat_minor": 0,
  "metadata": {
    "colab": {
      "provenance": []
    },
    "kernelspec": {
      "name": "python3",
      "display_name": "Python 3"
    },
    "language_info": {
      "name": "python"
    }
  },
  "cells": [
    {
      "cell_type": "code",
      "execution_count": null,
      "metadata": {
        "id": "fah-ObA88FsP"
      },
      "outputs": [],
      "source": [
        "import numpy as np\n",
        "\n",
        "def calculate(lst):\n",
        "    if len(lst) != 9:\n",
        "        raise ValueError(\"List must contain nine numbers.\")\n",
        "\n",
        "    arr = np.array(lst).reshape(3, 3)\n",
        "    result = {\n",
        "        'mean': [arr.mean(axis=1).tolist(), arr.mean(axis=0).tolist(), arr.mean()],\n",
        "        'variance': [arr.var(axis=1).tolist(), arr.var(axis=0).tolist(), arr.var()],\n",
        "        'standard deviation': [arr.std(axis=1).tolist(), arr.std(axis=0).tolist(), arr.std()],\n",
        "        'max': [arr.max(axis=1).tolist(), arr.max(axis=0).tolist(), arr.max()],\n",
        "        'min': [arr.min(axis=1).tolist(), arr.min(axis=0).tolist(), arr.min()],\n",
        "        'sum': [arr.sum(axis=1).tolist(), arr.sum(axis=0).tolist(), arr.sum()]\n",
        "    }\n",
        "\n",
        "    return result"
      ]
    },
    {
      "cell_type": "code",
      "source": [],
      "metadata": {
        "id": "Q9tW6HQv8Jwk"
      },
      "execution_count": null,
      "outputs": []
    }
  ]
}